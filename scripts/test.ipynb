{
 "cells": [
  {
   "cell_type": "code",
   "execution_count": 1,
   "metadata": {},
   "outputs": [
    {
     "name": "stderr",
     "output_type": "stream",
     "text": [
      "2024-09-26 11:36:22.252882: I tensorflow/core/platform/cpu_feature_guard.cc:193] This TensorFlow binary is optimized with oneAPI Deep Neural Network Library (oneDNN) to use the following CPU instructions in performance-critical operations:  AVX2 AVX_VNNI FMA\n",
      "To enable them in other operations, rebuild TensorFlow with the appropriate compiler flags.\n",
      "2024-09-26 11:36:22.306955: I tensorflow/core/util/port.cc:104] oneDNN custom operations are on. You may see slightly different numerical results due to floating-point round-off errors from different computation orders. To turn them off, set the environment variable `TF_ENABLE_ONEDNN_OPTS=0`.\n",
      "2024-09-26 11:36:22.583459: W tensorflow/compiler/xla/stream_executor/platform/default/dso_loader.cc:64] Could not load dynamic library 'libnvinfer.so.7'; dlerror: libnvinfer.so.7: cannot open shared object file: No such file or directory; LD_LIBRARY_PATH: :/home/unswctet/miniconda3/envs/MBRNet/lib/\n",
      "2024-09-26 11:36:22.583515: W tensorflow/compiler/xla/stream_executor/platform/default/dso_loader.cc:64] Could not load dynamic library 'libnvinfer_plugin.so.7'; dlerror: libnvinfer_plugin.so.7: cannot open shared object file: No such file or directory; LD_LIBRARY_PATH: :/home/unswctet/miniconda3/envs/MBRNet/lib/\n",
      "2024-09-26 11:36:22.583519: W tensorflow/compiler/tf2tensorrt/utils/py_utils.cc:38] TF-TRT Warning: Cannot dlopen some TensorRT libraries. If you would like to use Nvidia GPU with TensorRT, please make sure the missing libraries mentioned above are installed properly.\n"
     ]
    }
   ],
   "source": [
    "import matplotlib.pyplot as plt\n",
    "import tensorflow as tf\n",
    "import numpy as np\n",
    "import keras.backend as K\n",
    "import pandas as pd\n",
    "import os\n",
    "import math\n",
    "\n",
    "from keras.models import load_model\n",
    "from sklearn.metrics import r2_score\n",
    "from dataset import load_dataset, polyfit, expfit, shuffle_apply_scaler, perm_distribution, shuffle_apply_scaler_testing\n",
    "from model import MSE_function, huber_fn"
   ]
  },
  {
   "cell_type": "code",
   "execution_count": 2,
   "metadata": {},
   "outputs": [
    {
     "name": "stderr",
     "output_type": "stream",
     "text": [
      "2024-09-26 11:36:23.297632: I tensorflow/compiler/xla/stream_executor/cuda/cuda_gpu_executor.cc:967] could not open file to read NUMA node: /sys/bus/pci/devices/0000:01:00.0/numa_node\n",
      "Your kernel may have been built without NUMA support.\n",
      "2024-09-26 11:36:23.300811: I tensorflow/compiler/xla/stream_executor/cuda/cuda_gpu_executor.cc:967] could not open file to read NUMA node: /sys/bus/pci/devices/0000:01:00.0/numa_node\n",
      "Your kernel may have been built without NUMA support.\n",
      "2024-09-26 11:36:23.300834: I tensorflow/compiler/xla/stream_executor/cuda/cuda_gpu_executor.cc:967] could not open file to read NUMA node: /sys/bus/pci/devices/0000:01:00.0/numa_node\n",
      "Your kernel may have been built without NUMA support.\n",
      "2024-09-26 11:36:23.301562: I tensorflow/core/platform/cpu_feature_guard.cc:193] This TensorFlow binary is optimized with oneAPI Deep Neural Network Library (oneDNN) to use the following CPU instructions in performance-critical operations:  AVX2 AVX_VNNI FMA\n",
      "To enable them in other operations, rebuild TensorFlow with the appropriate compiler flags.\n",
      "2024-09-26 11:36:23.303130: I tensorflow/compiler/xla/stream_executor/cuda/cuda_gpu_executor.cc:967] could not open file to read NUMA node: /sys/bus/pci/devices/0000:01:00.0/numa_node\n",
      "Your kernel may have been built without NUMA support.\n",
      "2024-09-26 11:36:23.303168: I tensorflow/compiler/xla/stream_executor/cuda/cuda_gpu_executor.cc:967] could not open file to read NUMA node: /sys/bus/pci/devices/0000:01:00.0/numa_node\n",
      "Your kernel may have been built without NUMA support.\n",
      "2024-09-26 11:36:23.303180: I tensorflow/compiler/xla/stream_executor/cuda/cuda_gpu_executor.cc:967] could not open file to read NUMA node: /sys/bus/pci/devices/0000:01:00.0/numa_node\n",
      "Your kernel may have been built without NUMA support.\n"
     ]
    },
    {
     "name": "stdout",
     "output_type": "stream",
     "text": [
      "Num GPUs Available:  1\n",
      "Device mapping:\n",
      "/job:localhost/replica:0/task:0/device:GPU:0 -> device: 0, name: NVIDIA GeForce RTX 4090, pci bus id: 0000:01:00.0, compute capability: 8.9\n",
      "\n"
     ]
    },
    {
     "name": "stderr",
     "output_type": "stream",
     "text": [
      "2024-09-26 11:36:23.705203: I tensorflow/compiler/xla/stream_executor/cuda/cuda_gpu_executor.cc:967] could not open file to read NUMA node: /sys/bus/pci/devices/0000:01:00.0/numa_node\n",
      "Your kernel may have been built without NUMA support.\n",
      "2024-09-26 11:36:23.705266: I tensorflow/compiler/xla/stream_executor/cuda/cuda_gpu_executor.cc:967] could not open file to read NUMA node: /sys/bus/pci/devices/0000:01:00.0/numa_node\n",
      "Your kernel may have been built without NUMA support.\n",
      "2024-09-26 11:36:23.705272: I tensorflow/core/common_runtime/gpu/gpu_device.cc:1700] Could not identify NUMA node of platform GPU id 0, defaulting to 0.  Your kernel may not have been built with NUMA support.\n",
      "2024-09-26 11:36:23.705290: I tensorflow/compiler/xla/stream_executor/cuda/cuda_gpu_executor.cc:967] could not open file to read NUMA node: /sys/bus/pci/devices/0000:01:00.0/numa_node\n",
      "Your kernel may have been built without NUMA support.\n",
      "2024-09-26 11:36:23.705312: I tensorflow/core/common_runtime/gpu/gpu_device.cc:1613] Created device /job:localhost/replica:0/task:0/device:GPU:0 with 21286 MB memory:  -> device: 0, name: NVIDIA GeForce RTX 4090, pci bus id: 0000:01:00.0, compute capability: 8.9\n"
     ]
    }
   ],
   "source": [
    "tf.config.list_physical_devices('GPU')\n",
    "print(\"Num GPUs Available: \", len(tf.config.list_physical_devices('GPU')))\n",
    "sess = tf.compat.v1.Session(config=tf.compat.v1.ConfigProto(log_device_placement=True))"
   ]
  },
  {
   "cell_type": "code",
   "execution_count": 3,
   "metadata": {},
   "outputs": [],
   "source": [
    "df, perm_df, param_df, time_df = load_dataset('../dataset/CombinedDataset.xlsx', '1')\n",
    "means, Distribution = perm_distribution(df)\n",
    "X1_arr_train_shuffle, X2_arr_train_shuffle, Y_arr_train_shuffle, X1_arr_valid_shuffle, X2_arr_valid_shuffle, Y_arr_valid_shuffle, X1_arr_test_shuffle, X2_arr_test_shuffle, Y_arr_test_shuffle, timestamp_test = shuffle_apply_scaler(df, perm_df, param_df, time_df)\n",
    "\n",
    "df_testing, perm_df_testing, param_df_testing, time_df_testing = load_dataset('../dataset/CombinedDataset_testing.xlsx','1')\n",
    "X1_arr_shuffle_testing, X2_arr_shuffle_testing, Y_arr_shuffle_testing = shuffle_apply_scaler_testing(df,df_testing,perm_df_testing,param_df_testing)"
   ]
  },
  {
   "cell_type": "code",
   "execution_count": 4,
   "metadata": {},
   "outputs": [],
   "source": [
    "offset = 1.0\n",
    "ic_pt = means[330]\n",
    "multiplier = 5.0\n",
    "\n",
    "y_max = np.max(Distribution[0]).astype('float32')\n",
    "y_min = np.min(Distribution[0]).astype('float32')\n",
    "\n",
    "p_list = polyfit(df)\n",
    "a_fit, b_fit, c_fit = expfit(df)\n",
    "\n",
    "def custom_loss_function(y_true, y_pred):\n",
    "    delta = 5\n",
    "    diff = y_true - y_pred\n",
    "    is_small_error = tf.abs(diff) < delta\n",
    "    squared_loss = tf.square(diff) / 2\n",
    "    linear_loss  = tf.multiply(tf.abs(diff), delta) - 0.5 * delta**2\n",
    "    error = tf.where(is_small_error, squared_loss, linear_loss)\n",
    "    is_small_value = y_true < ic_pt\n",
    "    polynomial_term = tf.math.polyval(p_list, y_true)\n",
    "    a_fit_float32 = tf.cast(a_fit, dtype=tf.float32)\n",
    "    b_fit_float32 = tf.cast(b_fit, dtype=tf.float32)\n",
    "    c_fit_float32 = tf.cast(c_fit, dtype=tf.float32)\n",
    "    exp_term = tf.add(tf.multiply(a_fit_float32, tf.exp(tf.multiply(-1*b_fit_float32, y_true))), c_fit_float32)\n",
    "    clf_coe = tf.where(is_small_value, polynomial_term, exp_term)\n",
    "    clf_coe_reversed = tf.add(offset,tf.divide(tf.subtract(y_max, clf_coe), tf.subtract(y_max, y_min)))\n",
    "    return K.mean(tf.multiply(tf.multiply(multiplier, clf_coe_reversed), error))\n",
    "\n",
    "Perm_Max=max(df['Permeability'])\n",
    "Perm_Min=min(df['Permeability'])\n",
    "Perm_Max, Perm_Min\n",
    "\n",
    "def postprocess_perm(arr):\n",
    "    arr=arr*(Perm_Max-Perm_Min)+Perm_Min\n",
    "    return arr\n"
   ]
  },
  {
   "cell_type": "code",
   "execution_count": 5,
   "metadata": {},
   "outputs": [
    {
     "name": "stderr",
     "output_type": "stream",
     "text": [
      "2024-09-26 11:37:05.069059: I tensorflow/compiler/xla/stream_executor/cuda/cuda_gpu_executor.cc:967] could not open file to read NUMA node: /sys/bus/pci/devices/0000:01:00.0/numa_node\n",
      "Your kernel may have been built without NUMA support.\n",
      "2024-09-26 11:37:05.069141: I tensorflow/compiler/xla/stream_executor/cuda/cuda_gpu_executor.cc:967] could not open file to read NUMA node: /sys/bus/pci/devices/0000:01:00.0/numa_node\n",
      "Your kernel may have been built without NUMA support.\n",
      "2024-09-26 11:37:05.069156: I tensorflow/compiler/xla/stream_executor/cuda/cuda_gpu_executor.cc:967] could not open file to read NUMA node: /sys/bus/pci/devices/0000:01:00.0/numa_node\n",
      "Your kernel may have been built without NUMA support.\n",
      "2024-09-26 11:37:05.069354: I tensorflow/compiler/xla/stream_executor/cuda/cuda_gpu_executor.cc:967] could not open file to read NUMA node: /sys/bus/pci/devices/0000:01:00.0/numa_node\n",
      "Your kernel may have been built without NUMA support.\n",
      "2024-09-26 11:37:05.069367: I tensorflow/core/common_runtime/gpu/gpu_device.cc:1700] Could not identify NUMA node of platform GPU id 0, defaulting to 0.  Your kernel may not have been built with NUMA support.\n",
      "2024-09-26 11:37:05.069389: I tensorflow/compiler/xla/stream_executor/cuda/cuda_gpu_executor.cc:967] could not open file to read NUMA node: /sys/bus/pci/devices/0000:01:00.0/numa_node\n",
      "Your kernel may have been built without NUMA support.\n",
      "2024-09-26 11:37:05.069400: I tensorflow/core/common_runtime/gpu/gpu_device.cc:1613] Created device /job:localhost/replica:0/task:0/device:GPU:0 with 21286 MB memory:  -> device: 0, name: NVIDIA GeForce RTX 4090, pci bus id: 0000:01:00.0, compute capability: 8.9\n"
     ]
    }
   ],
   "source": [
    "#load the PEE-Huber model\n",
    "file_name = '../models/R168_Dropout.1_bs1024_lr0.005_Delta5_CLFHuber5_Adam'\n",
    "filepath=os.path.join(file_name + '.h5')\n",
    "regressor=load_model(filepath,\n",
    "                     custom_objects={'custom_loss_function': custom_loss_function})\n",
    "\n",
    "# #load the Huber model\n",
    "# file_name = '../models/model_repetitions/R1616_Dropout.1_bs1024_lr0.005_Huber5_softmax0'\n",
    "# filepath=os.path.join(file_name + '.h5')\n",
    "# regressor=load_model(filepath,\n",
    "#                      custom_objects={'huber_fn': huber_fn})\n",
    "\n",
    "# #load the MSE model\n",
    "# file_name = '../models/model_repetitions/R168_Dropout.1_bs1024_lr0.005_MSE0'\n",
    "# filepath=os.path.join(file_name + '.h5')\n",
    "# regressor=load_model(filepath,\n",
    "#                      custom_objects={'MSE_function': MSE_function})"
   ]
  },
  {
   "cell_type": "code",
   "execution_count": 6,
   "metadata": {},
   "outputs": [
    {
     "name": "stderr",
     "output_type": "stream",
     "text": [
      "2024-09-26 11:37:11.215666: I tensorflow/compiler/xla/stream_executor/cuda/cuda_dnn.cc:428] Loaded cuDNN version 8100\n"
     ]
    },
    {
     "name": "stdout",
     "output_type": "stream",
     "text": [
      "   4/1114 [..............................] - ETA: 1:05"
     ]
    },
    {
     "name": "stderr",
     "output_type": "stream",
     "text": [
      "2024-09-26 11:37:12.049236: I tensorflow/compiler/xla/stream_executor/cuda/cuda_blas.cc:630] TensorFloat-32 will be used for the matrix multiplication. This will only be logged once.\n"
     ]
    },
    {
     "name": "stdout",
     "output_type": "stream",
     "text": [
      "1114/1114 [==============================] - 39s 33ms/step\n",
      "MAPE: 0.06447375753271874\n",
      "r2: 0.873305863098527\n",
      "MAE: 3.709017638171724\n",
      "MSE: 31.802011892293255\n",
      "RMSE: 5.639327255293246\n"
     ]
    }
   ],
   "source": [
    "#performance on testing set 1\n",
    "predictions = regressor.predict([X1_arr_test_shuffle, X2_arr_test_shuffle])\n",
    "\n",
    "predictions_flat = postprocess_perm(predictions.flatten())\n",
    "Y_arr_test_shuffle_flat = postprocess_perm(Y_arr_test_shuffle.flatten())\n",
    "\n",
    "mape = abs((predictions_flat-Y_arr_test_shuffle_flat)/Y_arr_test_shuffle_flat)\n",
    "r2 = r2_score(Y_arr_test_shuffle_flat, predictions_flat)\n",
    "mse = ((predictions_flat - Y_arr_test_shuffle_flat)**2)\n",
    "mae = abs(predictions_flat - Y_arr_test_shuffle_flat)\n",
    "\n",
    "print(\"MAPE: \"+str(mape.mean()))\n",
    "print(\"r2: \"+str(r2))\n",
    "print(\"MAE: \"+str(mae.mean()))\n",
    "print(\"MSE: \"+str(mse.mean()))\n",
    "print(\"RMSE: \"+str(math.sqrt(mse.mean())))"
   ]
  },
  {
   "cell_type": "code",
   "execution_count": 7,
   "metadata": {},
   "outputs": [
    {
     "name": "stdout",
     "output_type": "stream",
     "text": [
      "643/643 [==============================] - 18s 29ms/step\n",
      "MAPE: 0.058491869785203744\n",
      "r2: 0.881156020629988\n",
      "MAE: 2.925936444850171\n",
      "MSE: 20.631917170401064\n",
      "RMSE: 4.542237022701596\n"
     ]
    }
   ],
   "source": [
    "#performance on testing set 2\n",
    "predictions = regressor.predict([X1_arr_shuffle_testing, X2_arr_shuffle_testing])\n",
    "\n",
    "predictions_flat = postprocess_perm(predictions.flatten())\n",
    "Y_arr_test_shuffle_flat = postprocess_perm(Y_arr_shuffle_testing.flatten())\n",
    "\n",
    "mape = abs((predictions_flat-Y_arr_test_shuffle_flat)/Y_arr_test_shuffle_flat)\n",
    "r2 = r2_score(Y_arr_test_shuffle_flat, predictions_flat)\n",
    "mse=((predictions_flat-Y_arr_test_shuffle_flat)**2)\n",
    "mae=abs(predictions_flat-Y_arr_test_shuffle_flat)\n",
    "\n",
    "print(\"MAPE: \"+str(mape.mean()))\n",
    "print(\"r2: \"+str(r2))\n",
    "print(\"MAE: \"+ str(mae.mean()))\n",
    "print(\"MSE: \"+str(mse.mean()))\n",
    "print(\"RMSE: \"+str(math.sqrt(mse.mean())))"
   ]
  },
  {
   "cell_type": "code",
   "execution_count": 9,
   "metadata": {},
   "outputs": [],
   "source": [
    "#performance evaluation on one group of models trained by different loss functions\n",
    "def pred_model(index):\n",
    "    folder_name = '../models/model_repetitions/'\n",
    "\n",
    "    #PEE-Huber group\n",
    "    file_name = 'R168_Dropout.1_bs1024_lr0.005_Delta5_CLFHuber5_Adam' + str(index)\n",
    "    filepath=os.path.join(folder_name + file_name + '.h5')\n",
    "    regressor=load_model(filepath,\n",
    "                         custom_objects={'custom_loss_function': custom_loss_function})\n",
    "    \n",
    "    # #Huber group\n",
    "    # file_name = 'R1616_Dropout.1_bs1024_lr0.005_Huber5_softmax' + str(index)\n",
    "    # regressor=load_model(filepath,\n",
    "    #                      custom_objects={'huber_fn': huber_fn})\n",
    "\n",
    "    # #MSE group\n",
    "    # file_name = 'R168_Dropout.1_bs1024_lr0.005_MSE' + str(index)\n",
    "    # regressor=load_model(filepath,\n",
    "    #                      custom_objects={'MSE_function': MSE_function})\n",
    "    \n",
    "    print('This is set #' + str(index))\n",
    "    set1_metrics = set1_pred(regressor)\n",
    "    set2_metrics = set2_pred(regressor)\n",
    "\n",
    "    # Append the results to the DataFrame\n",
    "    global results_df\n",
    "    new_row = pd.DataFrame([{\n",
    "        **set1_metrics,\n",
    "        **set2_metrics\n",
    "    }])\n",
    "    results_df = pd.concat([results_df, new_row], ignore_index=True)\n",
    "\n",
    "def set1_pred(regressor):\n",
    "    predictions = regressor.predict([X1_arr_test_shuffle, X2_arr_test_shuffle])\n",
    "    \n",
    "    predictions_flat = postprocess_perm(predictions.flatten())\n",
    "    Y_arr_test_shuffle_flat = postprocess_perm(Y_arr_test_shuffle.flatten())\n",
    "    \n",
    "    #mape\n",
    "    mape = abs((predictions_flat-Y_arr_test_shuffle_flat)/Y_arr_test_shuffle_flat)\n",
    "    r2 = r2_score(Y_arr_test_shuffle_flat, predictions_flat)\n",
    "    mse = ((predictions_flat - Y_arr_test_shuffle_flat)**2)\n",
    "    mae = abs(predictions_flat - Y_arr_test_shuffle_flat)\n",
    "    \n",
    "    print(\"MAPE: \"+str(mape.mean()))\n",
    "    print(\"r2: \"+str(r2))\n",
    "    print(\"MAE: \"+str(mae.mean()))\n",
    "    print(\"MSE: \"+str(mse.mean()))\n",
    "    print(\"RMSE: \"+str(math.sqrt(mse.mean())))\n",
    "    return {\n",
    "        'MAPE_set1': mape.mean(),\n",
    "        'R2_set1': r2,\n",
    "        'MAE_set1': mae.mean(),\n",
    "        'MSE_set1': mse.mean(),\n",
    "        'RMSE_set1': math.sqrt(mse.mean())\n",
    "    }\n",
    "\n",
    "\n",
    "def set2_pred(regressor):\n",
    "    predictions = regressor.predict([X1_arr_shuffle_testing, X2_arr_shuffle_testing])\n",
    "    \n",
    "    predictions_flat = postprocess_perm(predictions.flatten())\n",
    "    Y_arr_test_shuffle_flat = postprocess_perm(Y_arr_shuffle_testing.flatten())\n",
    "    \n",
    "    #mape\n",
    "    mape = abs((predictions_flat-Y_arr_test_shuffle_flat)/Y_arr_test_shuffle_flat)\n",
    "    from sklearn.metrics import r2_score\n",
    "    import math\n",
    "    r2 = r2_score(Y_arr_test_shuffle_flat, predictions_flat)\n",
    "    mse=((predictions_flat-Y_arr_test_shuffle_flat)**2)\n",
    "    mae=abs(predictions_flat-Y_arr_test_shuffle_flat)\n",
    "    \n",
    "    print(\"MAPE: \"+str(mape.mean()))\n",
    "    print(\"r2: \"+str(r2))\n",
    "    print(\"MAE: \"+ str(mae.mean()))\n",
    "    print(\"MSE: \"+str(mse.mean()))\n",
    "    print(\"RMSE: \"+str(math.sqrt(mse.mean())))\n",
    "    print(\"\\n\")\n",
    "    return {\n",
    "        'MAPE_set2': mape.mean(),\n",
    "        'R2_set2': r2,\n",
    "        'MAE_set2': mae.mean(),\n",
    "        'MSE_set2': mse.mean(),\n",
    "        'RMSE_set2': math.sqrt(mse.mean())\n",
    "    }"
   ]
  },
  {
   "cell_type": "code",
   "execution_count": 10,
   "metadata": {},
   "outputs": [
    {
     "name": "stdout",
     "output_type": "stream",
     "text": [
      "This is set #0\n",
      "1114/1114 [==============================] - 36s 32ms/step\n",
      "MAPE: 0.06779824340170519\n",
      "r2: 0.8614164485485235\n",
      "MAE: 3.8789280355611657\n",
      "MSE: 34.78642231694975\n",
      "RMSE: 5.898001552810049\n",
      "643/643 [==============================] - 19s 30ms/step\n",
      "MAPE: 0.06552697216749431\n",
      "r2: 0.861354159460699\n",
      "MAE: 3.302892725097953\n",
      "MSE: 24.069620633632972\n",
      "RMSE: 4.906079966086262\n",
      "\n",
      "\n"
     ]
    },
    {
     "name": "stderr",
     "output_type": "stream",
     "text": [
      "/tmp/ipykernel_12127/2875568341.py:31: FutureWarning: The behavior of DataFrame concatenation with empty or all-NA entries is deprecated. In a future version, this will no longer exclude empty or all-NA columns when determining the result dtypes. To retain the old behavior, exclude the relevant entries before the concat operation.\n",
      "  results_df = pd.concat([results_df, new_row], ignore_index=True)\n"
     ]
    },
    {
     "name": "stdout",
     "output_type": "stream",
     "text": [
      "This is set #1\n",
      "1114/1114 [==============================] - 32s 28ms/step\n",
      "MAPE: 0.06639732528329675\n",
      "r2: 0.8566509646905189\n",
      "MAE: 3.953980609284338\n",
      "MSE: 35.98262585115635\n",
      "RMSE: 5.998551979532756\n",
      "643/643 [==============================] - 18s 28ms/step\n",
      "MAPE: 0.06534999534908555\n",
      "r2: 0.8649696596405594\n",
      "MAE: 3.3703971627687697\n",
      "MSE: 23.4419514775186\n",
      "RMSE: 4.8416889075526734\n",
      "\n",
      "\n"
     ]
    },
    {
     "data": {
      "text/html": [
       "<div>\n",
       "<style scoped>\n",
       "    .dataframe tbody tr th:only-of-type {\n",
       "        vertical-align: middle;\n",
       "    }\n",
       "\n",
       "    .dataframe tbody tr th {\n",
       "        vertical-align: top;\n",
       "    }\n",
       "\n",
       "    .dataframe thead th {\n",
       "        text-align: right;\n",
       "    }\n",
       "</style>\n",
       "<table border=\"1\" class=\"dataframe\">\n",
       "  <thead>\n",
       "    <tr style=\"text-align: right;\">\n",
       "      <th></th>\n",
       "      <th>MAPE_set1</th>\n",
       "      <th>R2_set1</th>\n",
       "      <th>MAE_set1</th>\n",
       "      <th>MSE_set1</th>\n",
       "      <th>RMSE_set1</th>\n",
       "      <th>MAPE_set2</th>\n",
       "      <th>R2_set2</th>\n",
       "      <th>MAE_set2</th>\n",
       "      <th>MSE_set2</th>\n",
       "      <th>RMSE_set2</th>\n",
       "    </tr>\n",
       "  </thead>\n",
       "  <tbody>\n",
       "    <tr>\n",
       "      <th>0</th>\n",
       "      <td>0.067798</td>\n",
       "      <td>0.861416</td>\n",
       "      <td>3.878928</td>\n",
       "      <td>34.786422</td>\n",
       "      <td>5.898002</td>\n",
       "      <td>0.065527</td>\n",
       "      <td>0.861354</td>\n",
       "      <td>3.302893</td>\n",
       "      <td>24.069621</td>\n",
       "      <td>4.906080</td>\n",
       "    </tr>\n",
       "    <tr>\n",
       "      <th>1</th>\n",
       "      <td>0.066397</td>\n",
       "      <td>0.856651</td>\n",
       "      <td>3.953981</td>\n",
       "      <td>35.982626</td>\n",
       "      <td>5.998552</td>\n",
       "      <td>0.065350</td>\n",
       "      <td>0.864970</td>\n",
       "      <td>3.370397</td>\n",
       "      <td>23.441951</td>\n",
       "      <td>4.841689</td>\n",
       "    </tr>\n",
       "  </tbody>\n",
       "</table>\n",
       "</div>"
      ],
      "text/plain": [
       "   MAPE_set1   R2_set1  MAE_set1   MSE_set1  RMSE_set1  MAPE_set2   R2_set2  \\\n",
       "0   0.067798  0.861416  3.878928  34.786422   5.898002   0.065527  0.861354   \n",
       "1   0.066397  0.856651  3.953981  35.982626   5.998552   0.065350  0.864970   \n",
       "\n",
       "   MAE_set2   MSE_set2  RMSE_set2  \n",
       "0  3.302893  24.069621   4.906080  \n",
       "1  3.370397  23.441951   4.841689  "
      ]
     },
     "execution_count": 10,
     "metadata": {},
     "output_type": "execute_result"
    }
   ],
   "source": [
    "results_df = pd.DataFrame(columns=['MAPE_set1', 'R2_set1', 'MAE_set1', 'MSE_set1', 'RMSE_set1', 'MAPE_set2', 'R2_set2', 'MAE_set2', 'MSE_set2', 'RMSE_set2'])\n",
    "#up to range(40)\n",
    "for index in range(2):\n",
    "    pred_model(index)\n",
    "results_df\n",
    "\n",
    "# #export the results to excel\n",
    "# results_df.to_excel('results.xlsx', index=False, header=True)"
   ]
  },
  {
   "cell_type": "code",
   "execution_count": null,
   "metadata": {},
   "outputs": [],
   "source": []
  }
 ],
 "metadata": {
  "kernelspec": {
   "display_name": "py310",
   "language": "python",
   "name": "python3"
  },
  "language_info": {
   "codemirror_mode": {
    "name": "ipython",
    "version": 3
   },
   "file_extension": ".py",
   "mimetype": "text/x-python",
   "name": "python",
   "nbconvert_exporter": "python",
   "pygments_lexer": "ipython3",
   "version": "3.10.14"
  }
 },
 "nbformat": 4,
 "nbformat_minor": 2
}
